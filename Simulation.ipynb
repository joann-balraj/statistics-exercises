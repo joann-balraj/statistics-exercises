{
 "cells": [
  {
   "cell_type": "markdown",
   "id": "35ee5476",
   "metadata": {},
   "source": [
    "# Simulation Exercises"
   ]
  },
  {
   "cell_type": "code",
   "execution_count": 30,
   "id": "6c97bfd7",
   "metadata": {},
   "outputs": [],
   "source": [
    "%matplotlib inline\n",
    "import numpy as np\n",
    "import pandas as pd\n",
    "\n",
    "np.random.seed(29)"
   ]
  },
  {
   "cell_type": "markdown",
   "id": "354a8d91",
   "metadata": {},
   "source": [
    "### 1. How likely is it that you roll doubles when rolling two dice?"
   ]
  },
  {
   "cell_type": "code",
   "execution_count": 5,
   "id": "f1ae7974",
   "metadata": {},
   "outputs": [
    {
     "data": {
      "text/plain": [
       "0.1613"
      ]
     },
     "execution_count": 5,
     "metadata": {},
     "output_type": "execute_result"
    }
   ],
   "source": [
    "die1 = np.random.choice([1,2,3,4,5,6], 10_000)\n",
    "die2 = np.random.choice([1,2,3,4,5,6], 10_000)\n",
    "\n",
    "sameRoll = die1 == die2\n",
    "sameRoll.mean()"
   ]
  },
  {
   "cell_type": "markdown",
   "id": "444986e4",
   "metadata": {},
   "source": [
    "### 2. If you flip 8 coins, what is the probability of getting exactly 3 heads? What is the probability of getting more than 3 heads?\n",
    "\n"
   ]
  },
  {
   "cell_type": "code",
   "execution_count": 7,
   "id": "0b4faa13",
   "metadata": {},
   "outputs": [],
   "source": [
    "nrows = 10_000\n",
    "ncols = 8"
   ]
  },
  {
   "cell_type": "code",
   "execution_count": 24,
   "id": "8fd8294a",
   "metadata": {},
   "outputs": [
    {
     "name": "stdout",
     "output_type": "stream",
     "text": [
      "22 %\n",
      "64 %\n"
     ]
    }
   ],
   "source": [
    "rolls = np.random.choice([True, False], nrows * ncols).reshape(nrows, ncols)\n",
    "\n",
    "df = pd.DataFrame(rolls)\n",
    "\n",
    "df['num_heads'] = df.sum(axis=1)\n",
    "df['three_heads'] = df.num_heads == 3\n",
    "df['more_than_three_heads'] = df.num_heads > 3\n",
    "\n",
    "\n",
    "odds_of_three_heads = int(round(df.three_heads.mean(),2) * 100)\n",
    "odds_of_more_than_three_heads = int(round(df.more_than_three_heads.mean(),2) * 100)\n",
    "\n",
    "print(odds_of_three_heads,\"%\")\n",
    "print(odds_of_more_than_three_heads, \"%\")"
   ]
  },
  {
   "cell_type": "markdown",
   "id": "a8e9270f",
   "metadata": {},
   "source": [
    "### 3. There are approximitely 3 web development cohorts for every 1 data science cohort at Codeup. Assuming that Codeup randomly selects an alumni to put on a billboard, what are the odds that the two billboards I drive past both have data science students on them?"
   ]
  },
  {
   "cell_type": "code",
   "execution_count": 27,
   "id": "35481796",
   "metadata": {},
   "outputs": [
    {
     "name": "stdout",
     "output_type": "stream",
     "text": [
      "The odds of both billboards being Data Science are 6%\n"
     ]
    }
   ],
   "source": [
    "nrows = 100_000 \n",
    "ncols = 2   \n",
    "\n",
    "rolls = np.random.choice([\"DS\",\"WEB\",\"WEB\",\"WEB\"], nrows * ncols).reshape(nrows, ncols)\n",
    "\n",
    "df = pd.DataFrame(rolls)\n",
    "\n",
    "df['both_ds'] = (df[0] == \"DS\") & (df[1] == \"DS\")\n",
    "\n",
    "\n",
    "both_ds = int(round(df.both_ds.mean(),2) * 100)\n",
    "\n",
    "print(f'The odds of both billboards being Data Science are {both_ds}%')"
   ]
  },
  {
   "cell_type": "markdown",
   "id": "79eefaa1",
   "metadata": {},
   "source": [
    "### 4. Codeup students buy, on average, 3 poptart packages with a standard deviation of 1.5 a day from the snack vending machine. If on monday the machine is restocked with 17 poptart packages, how likely is it that I will be able to buy some poptarts on Friday afternoon? (Remember, if you have mean and standard deviation, use the np.random.normal)"
   ]
  },
  {
   "cell_type": "code",
   "execution_count": 62,
   "id": "93db5775",
   "metadata": {},
   "outputs": [
    {
     "name": "stdout",
     "output_type": "stream",
     "text": [
      "88 %\n"
     ]
    }
   ],
   "source": [
    "nrows = 100_000 \n",
    "ncols = 5       \n",
    "\n",
    "rolls = np.random.normal(3, 1.5, nrows * ncols).astype(int).reshape(nrows, ncols)\n",
    "\n",
    "df = pd.DataFrame(rolls)\n",
    "\n",
    "df['total_pop_tarts'] = df.sum(axis=1)\n",
    "df['pop_tarts_remain'] = df['total_pop_tarts'] < 17\n",
    "\n",
    "\n",
    "tarts = int(round(df['pop_tarts_remain'].mean(),2) * 100)\n",
    "print(tarts, '%')"
   ]
  },
  {
   "cell_type": "markdown",
   "id": "2f589055",
   "metadata": {},
   "source": [
    "### 5. Compare Heights\n",
    "- Men have an average height of 178 cm and standard deviation of 8cm.\n",
    "- Women have a mean of 170, sd = 6cm.\n",
    "- Since you have means and standard deviations, you can use np.random.normal to generate observations.\n",
    "- If a man and woman are chosen at random, P(woman taller than man)?"
   ]
  },
  {
   "cell_type": "code",
   "execution_count": null,
   "id": "a46aa604",
   "metadata": {},
   "outputs": [],
   "source": [
    "male_heights = np.random.normal(178, 8, 100_000)\n",
    "female_heights = np.random.normal(170, 6, 100_000)\n",
    "\n",
    "df = pd.DataFrame({\"male_heights\" : male_heights,\n",
    "                   \"female_heights\" : female_heights})\n",
    "\n",
    "df['female_is_taller'] = df.female_heights > df.male_heights\n",
    "\n",
    "df['female_is_taller'].mean()\n",
    "taller_female = int(round(df['female_is_taller'].mean(),2) * 100)\n",
    "\n",
    "print(f\"The probability of a woman, chosen at random, being taller than a man, chosen at random is {taller_female}%\")"
   ]
  },
  {
   "cell_type": "markdown",
   "id": "ebe67f84",
   "metadata": {},
   "source": [
    "### 6. When installing anaconda on a student's computer, there's a 1 in 250 chance that the download is corrupted and the installation fails. What are the odds that after having 50 students download anaconda, no one has an installation issue? 100 students?\n",
    "\n",
    "- What is the probability that we observe an installation issue within the first 150 students that download anaconda?\n",
    "\n",
    "- How likely is it that 450 students all download anaconda without an issue?"
   ]
  },
  {
   "cell_type": "code",
   "execution_count": 38,
   "id": "a763e0da",
   "metadata": {},
   "outputs": [
    {
     "data": {
      "text/plain": [
       "array([[False, False, False, ..., False, False, False],\n",
       "       [False, False, False, ..., False, False, False],\n",
       "       [False, False, False, ..., False, False, False],\n",
       "       ...,\n",
       "       [False, False, False, ..., False, False, False],\n",
       "       [False, False, False, ..., False, False, False],\n",
       "       [False, False, False, ..., False, False, False]])"
      ]
     },
     "execution_count": 38,
     "metadata": {},
     "output_type": "execute_result"
    }
   ],
   "source": [
    "### the odds of after having 50 students download anaconda, no one has an installation issue\n",
    "nrows = 100_000\n",
    "ncols = 50  \n",
    "\n",
    "issue_range = [False for r in range(1,250)]\n",
    "issue_range.append(True)\n",
    "\n",
    "installs = np.random.choice(issue_range, nrows * ncols).reshape(nrows, ncols)\n",
    "installs"
   ]
  },
  {
   "cell_type": "code",
   "execution_count": 39,
   "id": "21dce1fe",
   "metadata": {},
   "outputs": [
    {
     "data": {
      "text/plain": [
       "0.67152"
      ]
     },
     "execution_count": 39,
     "metadata": {},
     "output_type": "execute_result"
    }
   ],
   "source": [
    "df['has_no_problem'].mean()"
   ]
  },
  {
   "cell_type": "code",
   "execution_count": 43,
   "id": "ca993a2f",
   "metadata": {},
   "outputs": [
    {
     "name": "stdout",
     "output_type": "stream",
     "text": [
      "67 %\n"
     ]
    }
   ],
   "source": [
    "### 100 students odds\n",
    "nrows = 100_000 \n",
    "ncols = 100      \n",
    "\n",
    "issue_range = [False for r in range(1,250)]\n",
    "issue_range.append(True)\n",
    "\n",
    "installs = np.random.choice(issue_range, nrows * ncols).reshape(nrows, ncols)\n",
    "\n",
    "df = pd.DataFrame(installs)\n",
    "\n",
    "df['has_no_problem'] = df.sum(axis=1) == 0\n",
    "\n",
    "problems = int(round(df['has_no_problem'].mean(),2) * 100)\n",
    "\n",
    "print(problems, \"%\")"
   ]
  },
  {
   "cell_type": "code",
   "execution_count": 44,
   "id": "c3f36802",
   "metadata": {},
   "outputs": [
    {
     "name": "stdout",
     "output_type": "stream",
     "text": [
      "45 %\n"
     ]
    }
   ],
   "source": [
    "### What is the probability that we observe an installation issue within the first 150 students that download anaconda?\n",
    "\n",
    "nrows = 100_000 \n",
    "ncols = 150   \n",
    "\n",
    "issue_range = [False for r in range(1,250)]\n",
    "issue_range.append(True)\n",
    "\n",
    "installs = np.random.choice(issue_range, nrows * ncols).reshape(nrows, ncols)\n",
    "\n",
    "df = pd.DataFrame(installs)\n",
    "\n",
    "df['has_a_problem'] = df.sum(axis=1) > 0\n",
    "\n",
    "problems = int(round(df['has_a_problem'].mean(),2) * 100)\n",
    "\n",
    "print(problems, \"%\")"
   ]
  },
  {
   "cell_type": "markdown",
   "id": "18d2839c",
   "metadata": {},
   "source": [
    "### 7. There's a 70% chance on any given day that there will be at least one food truck at Travis Park. However, you haven't seen a food truck there in 3 days. How unlikely is this? How likely is it that a food truck will show up sometime this week?"
   ]
  },
  {
   "cell_type": "code",
   "execution_count": 46,
   "id": "6522cad5",
   "metadata": {},
   "outputs": [
    {
     "data": {
      "text/plain": [
       "array([[False, False,  True],\n",
       "       [ True,  True, False],\n",
       "       [ True, False,  True],\n",
       "       ...,\n",
       "       [ True,  True,  True],\n",
       "       [False, False,  True],\n",
       "       [ True,  True,  True]])"
      ]
     },
     "execution_count": 46,
     "metadata": {},
     "output_type": "execute_result"
    }
   ],
   "source": [
    "ncols = 100_000\n",
    "ncols = 3 \n",
    "sightings = np.random.choice([True, False], nrows * ncols, p=[.7,.3]).reshape(nrows, ncols)\n",
    "sightings"
   ]
  },
  {
   "cell_type": "code",
   "execution_count": 49,
   "id": "c16c52a2",
   "metadata": {},
   "outputs": [
    {
     "data": {
      "text/html": [
       "<div>\n",
       "<style scoped>\n",
       "    .dataframe tbody tr th:only-of-type {\n",
       "        vertical-align: middle;\n",
       "    }\n",
       "\n",
       "    .dataframe tbody tr th {\n",
       "        vertical-align: top;\n",
       "    }\n",
       "\n",
       "    .dataframe thead th {\n",
       "        text-align: right;\n",
       "    }\n",
       "</style>\n",
       "<table border=\"1\" class=\"dataframe\">\n",
       "  <thead>\n",
       "    <tr style=\"text-align: right;\">\n",
       "      <th></th>\n",
       "      <th>0</th>\n",
       "      <th>1</th>\n",
       "      <th>2</th>\n",
       "      <th>times_sighted</th>\n",
       "      <th>not_sighted_three_days</th>\n",
       "    </tr>\n",
       "  </thead>\n",
       "  <tbody>\n",
       "    <tr>\n",
       "      <th>0</th>\n",
       "      <td>False</td>\n",
       "      <td>False</td>\n",
       "      <td>True</td>\n",
       "      <td>1</td>\n",
       "      <td>False</td>\n",
       "    </tr>\n",
       "    <tr>\n",
       "      <th>1</th>\n",
       "      <td>True</td>\n",
       "      <td>True</td>\n",
       "      <td>False</td>\n",
       "      <td>2</td>\n",
       "      <td>False</td>\n",
       "    </tr>\n",
       "    <tr>\n",
       "      <th>2</th>\n",
       "      <td>True</td>\n",
       "      <td>False</td>\n",
       "      <td>True</td>\n",
       "      <td>2</td>\n",
       "      <td>False</td>\n",
       "    </tr>\n",
       "    <tr>\n",
       "      <th>3</th>\n",
       "      <td>True</td>\n",
       "      <td>True</td>\n",
       "      <td>False</td>\n",
       "      <td>2</td>\n",
       "      <td>False</td>\n",
       "    </tr>\n",
       "    <tr>\n",
       "      <th>4</th>\n",
       "      <td>True</td>\n",
       "      <td>True</td>\n",
       "      <td>False</td>\n",
       "      <td>2</td>\n",
       "      <td>False</td>\n",
       "    </tr>\n",
       "  </tbody>\n",
       "</table>\n",
       "</div>"
      ],
      "text/plain": [
       "       0      1      2  times_sighted  not_sighted_three_days\n",
       "0  False  False   True              1                   False\n",
       "1   True   True  False              2                   False\n",
       "2   True  False   True              2                   False\n",
       "3   True   True  False              2                   False\n",
       "4   True   True  False              2                   False"
      ]
     },
     "execution_count": 49,
     "metadata": {},
     "output_type": "execute_result"
    }
   ],
   "source": [
    "df = pd.DataFrame(sightings)\n",
    "df['times_sighted'] = df.sum(axis=1)\n",
    "df['not_sighted_three_days'] = df.times_sighted == 0\n",
    "df.head()"
   ]
  },
  {
   "cell_type": "code",
   "execution_count": 50,
   "id": "5de65315",
   "metadata": {},
   "outputs": [
    {
     "data": {
      "text/plain": [
       "0.02734"
      ]
     },
     "execution_count": 50,
     "metadata": {},
     "output_type": "execute_result"
    }
   ],
   "source": [
    "df['not_sighted_three_days'].mean()"
   ]
  },
  {
   "cell_type": "code",
   "execution_count": 51,
   "id": "929c21bb",
   "metadata": {},
   "outputs": [
    {
     "name": "stdout",
     "output_type": "stream",
     "text": [
      "The odds of not seeing a food truck in Travis Park for three days is 3%\n"
     ]
    }
   ],
   "source": [
    "trucks = int(round(df['not_sighted_three_days'].mean(),2) * 100)\n",
    "\n",
    "print(f'The odds of not seeing a food truck in Travis Park for three days is {trucks}%')"
   ]
  },
  {
   "cell_type": "code",
   "execution_count": 53,
   "id": "4595985a",
   "metadata": {},
   "outputs": [
    {
     "name": "stdout",
     "output_type": "stream",
     "text": [
      "The odds of not seeing a food truck in Travis Park for 2 days is 8%\n"
     ]
    }
   ],
   "source": [
    "### probability truck will come sometime this week\n",
    "# Remaining week days\n",
    "nrows = 100_000 # set rows to number of simulations\n",
    "ncols = 2      # set columns to number of students in each simulation\n",
    "\n",
    "# create array with each row representing a simulation and each column representing a student in the simulation\n",
    "sightings = np.random.choice([True, False], nrows * ncols, p=[.7,.3]).reshape(nrows, ncols)\n",
    "\n",
    "# convert to data frame\n",
    "df = pd.DataFrame(sightings)\n",
    "\n",
    "# add calculation columnns\n",
    "df['not_sighted_two_days'] = df.sum(axis=1) == 0\n",
    "\n",
    "# get mean of calculation True/False columns\n",
    "# format and print results\n",
    "trucks = int(round(df['not_sighted_two_days'].mean(),4) * 100)\n",
    "\n",
    "print(f'The odds of not seeing a food truck in Travis Park for {ncols} days is {trucks}%')\n"
   ]
  },
  {
   "cell_type": "markdown",
   "id": "5b4bc65a",
   "metadata": {},
   "source": [
    "### 8. If 23 people are in the same room, what are the odds that two of them share a birthday? What if it's 20 people? 40?"
   ]
  },
  {
   "cell_type": "code",
   "execution_count": 54,
   "id": "852041e4",
   "metadata": {},
   "outputs": [
    {
     "data": {
      "text/html": [
       "<div>\n",
       "<style scoped>\n",
       "    .dataframe tbody tr th:only-of-type {\n",
       "        vertical-align: middle;\n",
       "    }\n",
       "\n",
       "    .dataframe tbody tr th {\n",
       "        vertical-align: top;\n",
       "    }\n",
       "\n",
       "    .dataframe thead th {\n",
       "        text-align: right;\n",
       "    }\n",
       "</style>\n",
       "<table border=\"1\" class=\"dataframe\">\n",
       "  <thead>\n",
       "    <tr style=\"text-align: right;\">\n",
       "      <th></th>\n",
       "      <th>0</th>\n",
       "      <th>1</th>\n",
       "      <th>2</th>\n",
       "      <th>3</th>\n",
       "      <th>4</th>\n",
       "      <th>5</th>\n",
       "      <th>6</th>\n",
       "      <th>7</th>\n",
       "      <th>8</th>\n",
       "      <th>9</th>\n",
       "      <th>...</th>\n",
       "      <th>13</th>\n",
       "      <th>14</th>\n",
       "      <th>15</th>\n",
       "      <th>16</th>\n",
       "      <th>17</th>\n",
       "      <th>18</th>\n",
       "      <th>19</th>\n",
       "      <th>20</th>\n",
       "      <th>21</th>\n",
       "      <th>22</th>\n",
       "    </tr>\n",
       "  </thead>\n",
       "  <tbody>\n",
       "    <tr>\n",
       "      <th>0</th>\n",
       "      <td>183</td>\n",
       "      <td>267</td>\n",
       "      <td>275</td>\n",
       "      <td>330</td>\n",
       "      <td>277</td>\n",
       "      <td>248</td>\n",
       "      <td>224</td>\n",
       "      <td>267</td>\n",
       "      <td>10</td>\n",
       "      <td>36</td>\n",
       "      <td>...</td>\n",
       "      <td>144</td>\n",
       "      <td>140</td>\n",
       "      <td>38</td>\n",
       "      <td>255</td>\n",
       "      <td>45</td>\n",
       "      <td>29</td>\n",
       "      <td>91</td>\n",
       "      <td>128</td>\n",
       "      <td>109</td>\n",
       "      <td>216</td>\n",
       "    </tr>\n",
       "    <tr>\n",
       "      <th>1</th>\n",
       "      <td>350</td>\n",
       "      <td>12</td>\n",
       "      <td>276</td>\n",
       "      <td>290</td>\n",
       "      <td>149</td>\n",
       "      <td>170</td>\n",
       "      <td>232</td>\n",
       "      <td>36</td>\n",
       "      <td>263</td>\n",
       "      <td>27</td>\n",
       "      <td>...</td>\n",
       "      <td>284</td>\n",
       "      <td>220</td>\n",
       "      <td>190</td>\n",
       "      <td>22</td>\n",
       "      <td>323</td>\n",
       "      <td>162</td>\n",
       "      <td>131</td>\n",
       "      <td>274</td>\n",
       "      <td>243</td>\n",
       "      <td>258</td>\n",
       "    </tr>\n",
       "    <tr>\n",
       "      <th>2</th>\n",
       "      <td>114</td>\n",
       "      <td>361</td>\n",
       "      <td>291</td>\n",
       "      <td>168</td>\n",
       "      <td>214</td>\n",
       "      <td>116</td>\n",
       "      <td>135</td>\n",
       "      <td>107</td>\n",
       "      <td>335</td>\n",
       "      <td>128</td>\n",
       "      <td>...</td>\n",
       "      <td>139</td>\n",
       "      <td>107</td>\n",
       "      <td>172</td>\n",
       "      <td>282</td>\n",
       "      <td>42</td>\n",
       "      <td>288</td>\n",
       "      <td>302</td>\n",
       "      <td>40</td>\n",
       "      <td>131</td>\n",
       "      <td>267</td>\n",
       "    </tr>\n",
       "    <tr>\n",
       "      <th>3</th>\n",
       "      <td>167</td>\n",
       "      <td>127</td>\n",
       "      <td>86</td>\n",
       "      <td>319</td>\n",
       "      <td>32</td>\n",
       "      <td>347</td>\n",
       "      <td>212</td>\n",
       "      <td>72</td>\n",
       "      <td>210</td>\n",
       "      <td>211</td>\n",
       "      <td>...</td>\n",
       "      <td>169</td>\n",
       "      <td>339</td>\n",
       "      <td>4</td>\n",
       "      <td>203</td>\n",
       "      <td>317</td>\n",
       "      <td>37</td>\n",
       "      <td>0</td>\n",
       "      <td>223</td>\n",
       "      <td>199</td>\n",
       "      <td>295</td>\n",
       "    </tr>\n",
       "    <tr>\n",
       "      <th>4</th>\n",
       "      <td>135</td>\n",
       "      <td>13</td>\n",
       "      <td>201</td>\n",
       "      <td>290</td>\n",
       "      <td>235</td>\n",
       "      <td>39</td>\n",
       "      <td>317</td>\n",
       "      <td>281</td>\n",
       "      <td>103</td>\n",
       "      <td>191</td>\n",
       "      <td>...</td>\n",
       "      <td>34</td>\n",
       "      <td>242</td>\n",
       "      <td>212</td>\n",
       "      <td>85</td>\n",
       "      <td>340</td>\n",
       "      <td>333</td>\n",
       "      <td>276</td>\n",
       "      <td>270</td>\n",
       "      <td>140</td>\n",
       "      <td>115</td>\n",
       "    </tr>\n",
       "  </tbody>\n",
       "</table>\n",
       "<p>5 rows × 23 columns</p>\n",
       "</div>"
      ],
      "text/plain": [
       "    0    1    2    3    4    5    6    7    8    9   ...   13   14   15   16  \\\n",
       "0  183  267  275  330  277  248  224  267   10   36  ...  144  140   38  255   \n",
       "1  350   12  276  290  149  170  232   36  263   27  ...  284  220  190   22   \n",
       "2  114  361  291  168  214  116  135  107  335  128  ...  139  107  172  282   \n",
       "3  167  127   86  319   32  347  212   72  210  211  ...  169  339    4  203   \n",
       "4  135   13  201  290  235   39  317  281  103  191  ...   34  242  212   85   \n",
       "\n",
       "    17   18   19   20   21   22  \n",
       "0   45   29   91  128  109  216  \n",
       "1  323  162  131  274  243  258  \n",
       "2   42  288  302   40  131  267  \n",
       "3  317   37    0  223  199  295  \n",
       "4  340  333  276  270  140  115  \n",
       "\n",
       "[5 rows x 23 columns]"
      ]
     },
     "execution_count": 54,
     "metadata": {},
     "output_type": "execute_result"
    }
   ],
   "source": [
    "nrows = 100_000 \n",
    "ncols = 23 \n",
    "birth_days = np.random.choice([r for r in range(366)], nrows * ncols).reshape(nrows, ncols)\n",
    "birth_days\n",
    "df = pd.DataFrame(birth_days)\n",
    "df.head()"
   ]
  },
  {
   "cell_type": "code",
   "execution_count": 56,
   "id": "2bd5a606",
   "metadata": {},
   "outputs": [
    {
     "data": {
      "text/html": [
       "<div>\n",
       "<style scoped>\n",
       "    .dataframe tbody tr th:only-of-type {\n",
       "        vertical-align: middle;\n",
       "    }\n",
       "\n",
       "    .dataframe tbody tr th {\n",
       "        vertical-align: top;\n",
       "    }\n",
       "\n",
       "    .dataframe thead th {\n",
       "        text-align: right;\n",
       "    }\n",
       "</style>\n",
       "<table border=\"1\" class=\"dataframe\">\n",
       "  <thead>\n",
       "    <tr style=\"text-align: right;\">\n",
       "      <th></th>\n",
       "      <th>0</th>\n",
       "      <th>1</th>\n",
       "      <th>2</th>\n",
       "      <th>3</th>\n",
       "      <th>4</th>\n",
       "      <th>5</th>\n",
       "      <th>6</th>\n",
       "      <th>7</th>\n",
       "      <th>8</th>\n",
       "      <th>9</th>\n",
       "      <th>...</th>\n",
       "      <th>15</th>\n",
       "      <th>16</th>\n",
       "      <th>17</th>\n",
       "      <th>18</th>\n",
       "      <th>19</th>\n",
       "      <th>20</th>\n",
       "      <th>21</th>\n",
       "      <th>22</th>\n",
       "      <th>at_least_two_matching_birthdays</th>\n",
       "      <th>exactly_two_matching_birthdays</th>\n",
       "    </tr>\n",
       "  </thead>\n",
       "  <tbody>\n",
       "    <tr>\n",
       "      <th>0</th>\n",
       "      <td>183</td>\n",
       "      <td>267</td>\n",
       "      <td>275</td>\n",
       "      <td>330</td>\n",
       "      <td>277</td>\n",
       "      <td>248</td>\n",
       "      <td>224</td>\n",
       "      <td>267</td>\n",
       "      <td>10</td>\n",
       "      <td>36</td>\n",
       "      <td>...</td>\n",
       "      <td>38</td>\n",
       "      <td>255</td>\n",
       "      <td>45</td>\n",
       "      <td>29</td>\n",
       "      <td>91</td>\n",
       "      <td>128</td>\n",
       "      <td>109</td>\n",
       "      <td>216</td>\n",
       "      <td>False</td>\n",
       "      <td>False</td>\n",
       "    </tr>\n",
       "    <tr>\n",
       "      <th>1</th>\n",
       "      <td>350</td>\n",
       "      <td>12</td>\n",
       "      <td>276</td>\n",
       "      <td>290</td>\n",
       "      <td>149</td>\n",
       "      <td>170</td>\n",
       "      <td>232</td>\n",
       "      <td>36</td>\n",
       "      <td>263</td>\n",
       "      <td>27</td>\n",
       "      <td>...</td>\n",
       "      <td>190</td>\n",
       "      <td>22</td>\n",
       "      <td>323</td>\n",
       "      <td>162</td>\n",
       "      <td>131</td>\n",
       "      <td>274</td>\n",
       "      <td>243</td>\n",
       "      <td>258</td>\n",
       "      <td>False</td>\n",
       "      <td>False</td>\n",
       "    </tr>\n",
       "    <tr>\n",
       "      <th>2</th>\n",
       "      <td>114</td>\n",
       "      <td>361</td>\n",
       "      <td>291</td>\n",
       "      <td>168</td>\n",
       "      <td>214</td>\n",
       "      <td>116</td>\n",
       "      <td>135</td>\n",
       "      <td>107</td>\n",
       "      <td>335</td>\n",
       "      <td>128</td>\n",
       "      <td>...</td>\n",
       "      <td>172</td>\n",
       "      <td>282</td>\n",
       "      <td>42</td>\n",
       "      <td>288</td>\n",
       "      <td>302</td>\n",
       "      <td>40</td>\n",
       "      <td>131</td>\n",
       "      <td>267</td>\n",
       "      <td>False</td>\n",
       "      <td>False</td>\n",
       "    </tr>\n",
       "    <tr>\n",
       "      <th>3</th>\n",
       "      <td>167</td>\n",
       "      <td>127</td>\n",
       "      <td>86</td>\n",
       "      <td>319</td>\n",
       "      <td>32</td>\n",
       "      <td>347</td>\n",
       "      <td>212</td>\n",
       "      <td>72</td>\n",
       "      <td>210</td>\n",
       "      <td>211</td>\n",
       "      <td>...</td>\n",
       "      <td>4</td>\n",
       "      <td>203</td>\n",
       "      <td>317</td>\n",
       "      <td>37</td>\n",
       "      <td>0</td>\n",
       "      <td>223</td>\n",
       "      <td>199</td>\n",
       "      <td>295</td>\n",
       "      <td>False</td>\n",
       "      <td>False</td>\n",
       "    </tr>\n",
       "    <tr>\n",
       "      <th>4</th>\n",
       "      <td>135</td>\n",
       "      <td>13</td>\n",
       "      <td>201</td>\n",
       "      <td>290</td>\n",
       "      <td>235</td>\n",
       "      <td>39</td>\n",
       "      <td>317</td>\n",
       "      <td>281</td>\n",
       "      <td>103</td>\n",
       "      <td>191</td>\n",
       "      <td>...</td>\n",
       "      <td>212</td>\n",
       "      <td>85</td>\n",
       "      <td>340</td>\n",
       "      <td>333</td>\n",
       "      <td>276</td>\n",
       "      <td>270</td>\n",
       "      <td>140</td>\n",
       "      <td>115</td>\n",
       "      <td>False</td>\n",
       "      <td>False</td>\n",
       "    </tr>\n",
       "  </tbody>\n",
       "</table>\n",
       "<p>5 rows × 25 columns</p>\n",
       "</div>"
      ],
      "text/plain": [
       "     0    1    2    3    4    5    6    7    8    9  ...   15   16   17   18  \\\n",
       "0  183  267  275  330  277  248  224  267   10   36  ...   38  255   45   29   \n",
       "1  350   12  276  290  149  170  232   36  263   27  ...  190   22  323  162   \n",
       "2  114  361  291  168  214  116  135  107  335  128  ...  172  282   42  288   \n",
       "3  167  127   86  319   32  347  212   72  210  211  ...    4  203  317   37   \n",
       "4  135   13  201  290  235   39  317  281  103  191  ...  212   85  340  333   \n",
       "\n",
       "    19   20   21   22  at_least_two_matching_birthdays  \\\n",
       "0   91  128  109  216                            False   \n",
       "1  131  274  243  258                            False   \n",
       "2  302   40  131  267                            False   \n",
       "3    0  223  199  295                            False   \n",
       "4  276  270  140  115                            False   \n",
       "\n",
       "   exactly_two_matching_birthdays  \n",
       "0                           False  \n",
       "1                           False  \n",
       "2                           False  \n",
       "3                           False  \n",
       "4                           False  \n",
       "\n",
       "[5 rows x 25 columns]"
      ]
     },
     "execution_count": 56,
     "metadata": {},
     "output_type": "execute_result"
    }
   ],
   "source": [
    "df['at_least_two_matching_birthdays'] = df.nunique(axis=1) < ncols\n",
    "df['exactly_two_matching_birthdays'] = df.nunique(axis=1) == ncols-1\n",
    "df.head()"
   ]
  },
  {
   "cell_type": "code",
   "execution_count": 57,
   "id": "62d04294",
   "metadata": {},
   "outputs": [
    {
     "name": "stdout",
     "output_type": "stream",
     "text": [
      "The odds of a room of 23 people having at least two people that share a birthday are 17%\n",
      "The odds of a room of 23 people having exactly two people that share a birthday are 18%\n"
     ]
    }
   ],
   "source": [
    "\n",
    "at_least_two_matching_birthdays = int(round(df['at_least_two_matching_birthdays'].mean(),2) * 100)\n",
    "exactly_two_matching_birthdays = int(round(df['exactly_two_matching_birthdays'].mean(),2) * 100)\n",
    "\n",
    "print(f'The odds of a room of {ncols} people having at least two people that share a birthday are {at_least_two_matching_birthdays}%')\n",
    "print(f'The odds of a room of {ncols} people having exactly two people that share a birthday are {exactly_two_matching_birthdays}%')"
   ]
  },
  {
   "cell_type": "code",
   "execution_count": 63,
   "id": "6a1f201a",
   "metadata": {},
   "outputs": [
    {
     "name": "stdout",
     "output_type": "stream",
     "text": [
      "The odds of a room of 23 people having at least two people that share a birthday are 50%\n",
      "The odds of a room of 23 people having exactly least two people that share a birthday are 13%\n"
     ]
    }
   ],
   "source": [
    "ncols = 23      \n",
    "\n",
    "sightings = np.random.choice([r for r in range(366)], nrows * ncols).reshape(nrows, ncols)\n",
    "df = pd.DataFrame(sightings)\n",
    "\n",
    "df['at_least_two_matching_birthdays'] = df.nunique(axis=1) < ncols\n",
    "df['exactly_two_matching_birthdays'] = df.nunique(axis=1) == ncols-1\n",
    "\n",
    "\n",
    "at_least_two_matching_birthdays = int(round(df['at_least_two_matching_birthdays'].mean(),2) * 100)\n",
    "exactly_two_matching_birthdays = int(round(df['exactly_two_matching_birthdays'].mean(),2) * 100)\n",
    "\n",
    "print(f'The odds of a room of {ncols} people having at least two people that share a birthday are {at_least_two_matching_birthdays}%')\n",
    "print(f'The odds of a room of {ncols} people having exactly least two people that share a birthday are {exactly_two_matching_birthdays}%')"
   ]
  },
  {
   "cell_type": "code",
   "execution_count": 65,
   "id": "973e48cf",
   "metadata": {},
   "outputs": [],
   "source": [
    "nrows = 100_000 \n",
    "ncols = 20  "
   ]
  },
  {
   "cell_type": "code",
   "execution_count": 66,
   "id": "2cac9cdb",
   "metadata": {},
   "outputs": [
    {
     "name": "stdout",
     "output_type": "stream",
     "text": [
      "The odds of a room of 20 people having at least two people that share a birthday are 41%\n",
      "The odds of a room of 20 people having exactly least two people that share a birthday are 9%\n"
     ]
    }
   ],
   "source": [
    "sightings = np.random.choice([r for r in range(366)], nrows * ncols).reshape(nrows, ncols)\n",
    "\n",
    "df = pd.DataFrame(sightings)\n",
    "df['at_least_two_matching_birthdays'] = df.nunique(axis=1) < ncols\n",
    "df['exactly_two_matching_birthdays'] = df.nunique(axis=1) == ncols-1\n",
    "\n",
    "at_least_two_matching_birthdays = int(round(df['at_least_two_matching_birthdays'].mean(),2) * 100)\n",
    "exactly_two_matching_birthdays = int(round(df['exactly_two_matching_birthdays'].mean(),2) * 100)\n",
    "\n",
    "print(f'The odds of a room of {ncols} people having at least two people that share a birthday are {at_least_two_matching_birthdays}%')\n",
    "print(f'The odds of a room of {ncols} people having exactly least two people that share a birthday are {exactly_two_matching_birthdays}%')"
   ]
  },
  {
   "cell_type": "code",
   "execution_count": 68,
   "id": "d435f22b",
   "metadata": {},
   "outputs": [
    {
     "name": "stdout",
     "output_type": "stream",
     "text": [
      "The odds that a room of 40 people have at least two people that share a birthday are 89%\n",
      "The odds that a room of 40 people have exactly two people that share a birthday are 28%\n"
     ]
    }
   ],
   "source": [
    "### 40 people \n",
    "nrows = 100_000 \n",
    "ncols = 40       \n",
    "sightings = np.random.choice([r for r in range(366)], nrows * ncols).reshape(nrows, ncols)\n",
    "\n",
    "df = pd.DataFrame(sightings)\n",
    "\n",
    "df['at_least_two_matching_birthdays'] = df.nunique(axis=1) < ncols\n",
    "df['exactly_two_matching_birthdays'] = df.nunique(axis=1) == ncols-1\n",
    "\n",
    "at_least_two_matching_birthdays = int(round(df['at_least_two_matching_birthdays'].mean(),2) * 100)\n",
    "exactly_two_matching_birthdays = int(round(df['exactly_two_matching_birthdays'].mean(),2) * 100)\n",
    "\n",
    "print(f'The odds that a room of {ncols} people have at least two people that share a birthday are {at_least_two_matching_birthdays}%')\n",
    "print(f'The odds that a room of {ncols} people have exactly two people that share a birthday are {exactly_two_matching_birthdays}%')"
   ]
  }
 ],
 "metadata": {
  "kernelspec": {
   "display_name": "Python 3.8.8 64-bit ('base': conda)",
   "language": "python",
   "name": "python388jvsc74a57bd0b64057e63add2b45b1ffc7eab9b09c8889b419c878e2fdf0d08f837f0fc857a7"
  },
  "language_info": {
   "codemirror_mode": {
    "name": "ipython",
    "version": 3
   },
   "file_extension": ".py",
   "mimetype": "text/x-python",
   "name": "python",
   "nbconvert_exporter": "python",
   "pygments_lexer": "ipython3",
   "version": "3.8.8"
  }
 },
 "nbformat": 4,
 "nbformat_minor": 5
}
