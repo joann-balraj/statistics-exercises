{
 "cells": [
  {
   "cell_type": "markdown",
   "id": "1b08d116",
   "metadata": {},
   "source": [
    "# Simulation Exercises"
   ]
  },
  {
   "cell_type": "code",
   "execution_count": 4,
   "id": "72422733",
   "metadata": {},
   "outputs": [],
   "source": [
    "%matplotlib inline\n",
    "import numpy as np\n",
    "import pandas as pd\n",
    "\n",
    "np.random.seed(29)"
   ]
  },
  {
   "cell_type": "markdown",
   "id": "7c2967a6",
   "metadata": {},
   "source": [
    "### 1. How likely is it that you roll doubles when rolling two dice?"
   ]
  },
  {
   "cell_type": "code",
   "execution_count": 5,
   "id": "431f3319",
   "metadata": {},
   "outputs": [
    {
     "data": {
      "text/plain": [
       "0.1613"
      ]
     },
     "execution_count": 5,
     "metadata": {},
     "output_type": "execute_result"
    }
   ],
   "source": [
    "die1 = np.random.choice([1,2,3,4,5,6], 10_000)\n",
    "die2 = np.random.choice([1,2,3,4,5,6], 10_000)\n",
    "\n",
    "sameRoll = die1 == die2\n",
    "sameRoll.mean()"
   ]
  },
  {
   "cell_type": "markdown",
   "id": "2e9a869d",
   "metadata": {},
   "source": [
    "### 2. If you flip 8 coins, what is the probability of getting exactly 3 heads? What is the probability of getting more than 3 heads?\n",
    "\n"
   ]
  },
  {
   "cell_type": "code",
   "execution_count": 7,
   "id": "b3321a93",
   "metadata": {},
   "outputs": [],
   "source": [
    "nrows = 10_000\n",
    "ncols = 8"
   ]
  },
  {
   "cell_type": "code",
   "execution_count": 21,
   "id": "c7226303",
   "metadata": {},
   "outputs": [
    {
     "name": "stdout",
     "output_type": "stream",
     "text": [
      "22 %\n",
      "85 %\n"
     ]
    }
   ],
   "source": [
    "rolls = np.random.choice([True, False], nrows * ncols).reshape(nrows, ncols)\n",
    "\n",
    "df = pd.DataFrame(rolls)\n",
    "\n",
    "df['num_heads'] = df.sum(axis=1)\n",
    "df['three_heads'] = df.num_heads == 3\n",
    "df['three_or_more_heads'] = df.num_heads >= 3\n",
    "\n",
    "\n",
    "odds_of_three_heads = int(round(df.three_heads.mean(),2) * 100)\n",
    "odds_of_three_or_more_heads = int(round(df.three_or_more_heads.mean(),2) * 100)\n",
    "\n",
    "print(odds_of_three_heads,\"%\")\n",
    "print(odds_of_three_or_more_heads, \"%\")"
   ]
  },
  {
   "cell_type": "code",
   "execution_count": null,
   "id": "d84aedc2",
   "metadata": {},
   "outputs": [],
   "source": []
  }
 ],
 "metadata": {
  "kernelspec": {
   "display_name": "Python 3.8.8 64-bit ('base': conda)",
   "language": "python",
   "name": "python388jvsc74a57bd0b64057e63add2b45b1ffc7eab9b09c8889b419c878e2fdf0d08f837f0fc857a7"
  },
  "language_info": {
   "codemirror_mode": {
    "name": "ipython",
    "version": 3
   },
   "file_extension": ".py",
   "mimetype": "text/x-python",
   "name": "python",
   "nbconvert_exporter": "python",
   "pygments_lexer": "ipython3",
   "version": "3.8.8"
  }
 },
 "nbformat": 4,
 "nbformat_minor": 5
}
