{
 "cells": [
  {
   "cell_type": "markdown",
   "id": "d0961c61",
   "metadata": {},
   "source": [
    "# Exercises"
   ]
  },
  {
   "cell_type": "code",
   "execution_count": 35,
   "id": "8baaa3e5",
   "metadata": {},
   "outputs": [],
   "source": [
    "import numpy as np\n",
    "import pandas as pd\n",
    "import random\n",
    "\n",
    "from scipy import stats\n",
    "from math import e, factorial\n",
    "from env import user, host, password\n",
    "\n",
    "import matplotlib.pyplot as plt"
   ]
  },
  {
   "cell_type": "markdown",
   "id": "be0e9c20",
   "metadata": {},
   "source": [
    "### 1.  A bank found that the average number of cars waiting during the noon hour at a drive-up window follows a Poisson distribution with a mean of 2 cars. Make a chart of this distribution and answer these questions concerning the probability of cars waiting at the drive-up window.\n",
    "\n",
    "- a. What is the probability that no cars drive up in the noon hour?\n",
    "- b. What is the probability that 3 or more cars come through the drive through?\n",
    "- c. How likely is it that the drive through gets at least 1 car?"
   ]
  },
  {
   "cell_type": "code",
   "execution_count": 49,
   "id": "2383ede9",
   "metadata": {},
   "outputs": [
    {
     "data": {
      "image/png": "[encoded data removed]",
      "text/plain": [
       "<Figure size 432x288 with 1 Axes>"
      ]
     },
     "metadata": {
      "needs_background": "light"
     },
     "output_type": "display_data"
    }
   ],
   "source": [
    "mean = 2\n",
    "\n",
    "X = [r for r in range(7)]\n",
    "\n",
    "y = [((e**-mean) * (mean**x)) / (factorial(x)) for x in X]\n",
    "\n",
    "plt.bar(X,y)\n",
    "plt.title(\"Probability of N number of cars appearing at this Bank's drive-up window at Noon\")\n",
    "plt.xlabel('Num of cars')\n",
    "plt.ylabel('P(X)')\n",
    "\n",
    "plt.show();\n",
    "\n",
    "\n"
   ]
  },
  {
   "cell_type": "markdown",
   "id": "f71069af",
   "metadata": {},
   "source": [
    "# a."
   ]
  },
  {
   "cell_type": "code",
   "execution_count": 10,
   "id": "c6710e09",
   "metadata": {},
   "outputs": [
    {
     "data": {
      "text/plain": [
       "0.1353352832366127"
      ]
     },
     "execution_count": 10,
     "metadata": {},
     "output_type": "execute_result"
    }
   ],
   "source": [
    "mean = 2\n",
    "stats.poisson(mean).pmf(0)"
   ]
  },
  {
   "cell_type": "markdown",
   "id": "38c6ef46",
   "metadata": {},
   "source": [
    "# b."
   ]
  },
  {
   "cell_type": "code",
   "execution_count": 50,
   "id": "e6b85843",
   "metadata": {},
   "outputs": [
    {
     "data": {
      "text/plain": [
       "0.32332358381693654"
      ]
     },
     "execution_count": 50,
     "metadata": {},
     "output_type": "execute_result"
    }
   ],
   "source": [
    "stats.poisson(mean).sf(2)"
   ]
  },
  {
   "cell_type": "markdown",
   "id": "6ef05e15",
   "metadata": {},
   "source": [
    "# c."
   ]
  },
  {
   "cell_type": "code",
   "execution_count": 51,
   "id": "a7bc9ff3",
   "metadata": {},
   "outputs": [
    {
     "data": {
      "text/plain": [
       "0.8646647167633873"
      ]
     },
     "execution_count": 51,
     "metadata": {},
     "output_type": "execute_result"
    }
   ],
   "source": [
    "stats.poisson(mean).sf(0)"
   ]
  },
  {
   "cell_type": "markdown",
   "id": "72b81e74",
   "metadata": {},
   "source": [
    "### 2. Grades of State University graduates are normally distributed with a mean of 3.0 and a standard deviation of .3. Calculate the following:\n",
    "\n",
    "- a.) What grade point average is required to be in the top 5% of the graduating class?\n",
    "- b.) What GPA constitutes the bottom 15% of the class?\n",
    "- c.) An eccentric alumnus left scholarship money for students in the third decile from the bottom of their class. Determine the range of the third decile. Would a student with a 2.8 grade point average qualify for this scholarship?\n",
    "- d.) If I have a GPA of 3.5, what percentile am I in?"
   ]
  },
  {
   "cell_type": "markdown",
   "id": "3a72618d",
   "metadata": {},
   "source": [
    "# a."
   ]
  },
  {
   "cell_type": "code",
   "execution_count": 14,
   "id": "77bff6eb",
   "metadata": {},
   "outputs": [],
   "source": [
    "mean = 3\n",
    "sd = .3"
   ]
  },
  {
   "cell_type": "code",
   "execution_count": 15,
   "id": "13d41b5e",
   "metadata": {},
   "outputs": [
    {
     "data": {
      "text/plain": [
       "3.4934560880854417"
      ]
     },
     "execution_count": 15,
     "metadata": {},
     "output_type": "execute_result"
    }
   ],
   "source": [
    "stats.norm(mean, sd).isf(.05)"
   ]
  },
  {
   "cell_type": "markdown",
   "id": "ebee1f62",
   "metadata": {},
   "source": [
    "# b."
   ]
  },
  {
   "cell_type": "code",
   "execution_count": 16,
   "id": "17dc4118",
   "metadata": {},
   "outputs": [
    {
     "data": {
      "text/plain": [
       "2.689069983151863"
      ]
     },
     "execution_count": 16,
     "metadata": {},
     "output_type": "execute_result"
    }
   ],
   "source": [
    "stats.norm(mean, sd).ppf(.15)"
   ]
  },
  {
   "cell_type": "markdown",
   "id": "2dcbe6e1",
   "metadata": {},
   "source": [
    "# c."
   ]
  },
  {
   "cell_type": "code",
   "execution_count": 17,
   "id": "fbac326e",
   "metadata": {},
   "outputs": [
    {
     "name": "stdout",
     "output_type": "stream",
     "text": [
      "The range of the third decile is from 2.75 to 2.84.\n"
     ]
    }
   ],
   "source": [
    "start = stats.norm(mean, sd).ppf(.20)\n",
    "start\n",
    "\n",
    "end = stats.norm(mean, sd).ppf(.30)\n",
    "end"
   ]
  },
  {
   "cell_type": "code",
   "execution_count": 18,
   "id": "45de21d0",
   "metadata": {},
   "outputs": [
    {
     "name": "stdout",
     "output_type": "stream",
     "text": [
      "The range of the third decile is from 2.75 to 2.84.\n"
     ]
    }
   ],
   "source": [
    "print(f\"The range of the third decile is from {round(start,2)} to {round(end,2)}.\")"
   ]
  },
  {
   "cell_type": "code",
   "execution_count": 22,
   "id": "184c834b",
   "metadata": {},
   "outputs": [],
   "source": [
    "nrows = 100_000 # set nrows to number of simulations\n",
    "ncols = 1       # set ncolumns to number of dice rolled in each simulation\n",
    "\n",
    "# create an nrows by ncols dataframe for the simulation\n",
    "rolls = np.random.normal(mean, sd, nrows * ncols).reshape(nrows, ncols) \n",
    "\n",
    "df = pd.DataFrame(rolls)\n",
    "\n",
    "# add calculation columns\n",
    "df['rank'] = pd.qcut(df[0], q=10, labels=False)\n",
    "\n",
    "df = df[df['rank'] == 2]"
   ]
  },
  {
   "cell_type": "markdown",
   "id": "3e21c402",
   "metadata": {},
   "source": [
    "Would a student with a 2.8 grade point average qualify for this scholarship?\n",
    "Yes"
   ]
  },
  {
   "cell_type": "code",
   "execution_count": 23,
   "id": "9fb2ec3d",
   "metadata": {},
   "outputs": [
    {
     "data": {
      "text/html": [
       "<div>\n",
       "<style scoped>\n",
       "    .dataframe tbody tr th:only-of-type {\n",
       "        vertical-align: middle;\n",
       "    }\n",
       "\n",
       "    .dataframe tbody tr th {\n",
       "        vertical-align: top;\n",
       "    }\n",
       "\n",
       "    .dataframe thead th {\n",
       "        text-align: right;\n",
       "    }\n",
       "</style>\n",
       "<table border=\"1\" class=\"dataframe\">\n",
       "  <thead>\n",
       "    <tr style=\"text-align: right;\">\n",
       "      <th></th>\n",
       "      <th>0</th>\n",
       "      <th>rank</th>\n",
       "    </tr>\n",
       "  </thead>\n",
       "  <tbody>\n",
       "    <tr>\n",
       "      <th>99984</th>\n",
       "      <td>2.801646</td>\n",
       "      <td>2</td>\n",
       "    </tr>\n",
       "  </tbody>\n",
       "</table>\n",
       "</div>"
      ],
      "text/plain": [
       "              0  rank\n",
       "99984  2.801646     2"
      ]
     },
     "execution_count": 23,
     "metadata": {},
     "output_type": "execute_result"
    }
   ],
   "source": [
    "df.tail(1)"
   ]
  },
  {
   "cell_type": "markdown",
   "id": "63777748",
   "metadata": {},
   "source": [
    "# d."
   ]
  },
  {
   "cell_type": "code",
   "execution_count": 24,
   "id": "9da338b9",
   "metadata": {},
   "outputs": [
    {
     "data": {
      "text/plain": [
       "95"
      ]
     },
     "execution_count": 24,
     "metadata": {},
     "output_type": "execute_result"
    }
   ],
   "source": [
    "percentile = int(round(stats.norm(mean, sd).cdf(3.5),2) * 100)\n",
    "percentile"
   ]
  },
  {
   "cell_type": "markdown",
   "id": "d24cc19e",
   "metadata": {},
   "source": [
    "### 3. A marketing website has an average click-through rate of 2%. One day they observe 4326 visitors and 97 click-throughs. How likely is it that this many people or more click through?\n",
    "\n"
   ]
  },
  {
   "cell_type": "code",
   "execution_count": 56,
   "id": "19fb4bc6",
   "metadata": {},
   "outputs": [
    {
     "data": {
      "text/plain": [
       "0.1397582363130086"
      ]
     },
     "execution_count": 56,
     "metadata": {},
     "output_type": "execute_result"
    }
   ],
   "source": [
    "p = .02\n",
    "n = 4326\n",
    "\n",
    "target = 97\n",
    "\n",
    "stats.binom(n, p).sf(96)"
   ]
  },
  {
   "cell_type": "markdown",
   "id": "cadecd83",
   "metadata": {},
   "source": [
    "### 4. You are working on some statistics homework consisting of 100 questions where all of the answers are a probability rounded to the hundreths place. Looking to save time, you put down random probabilities as the answer to each question.\n",
    "\n",
    "- What is the probability that at least one of your first 60 answers is correct?"
   ]
  },
  {
   "cell_type": "code",
   "execution_count": 54,
   "id": "b440605f",
   "metadata": {},
   "outputs": [
    {
     "data": {
      "text/plain": [
       "0.4528433576092388"
      ]
     },
     "execution_count": 54,
     "metadata": {},
     "output_type": "execute_result"
    }
   ],
   "source": [
    "p = .01\n",
    "n_trials = 60\n",
    "target = 1\n",
    "\n",
    "stats.binom(n_trials, p).sf(0)"
   ]
  },
  {
   "cell_type": "markdown",
   "id": "aed73657",
   "metadata": {},
   "source": [
    "### 5. The codeup staff tends to get upset when the student break area is not cleaned up. Suppose that there's a 3% chance that any one student cleans the break area when they visit it, and, on any given day, about 90% of the 3 active cohorts of 22 students visit the break area. How likely is it that the break area gets cleaned up each day? How likely is it that it goes two days without getting cleaned up? All week?"
   ]
  },
  {
   "cell_type": "markdown",
   "id": "fa2bf331",
   "metadata": {},
   "source": [
    "#### Each day"
   ]
  },
  {
   "cell_type": "code",
   "execution_count": 61,
   "id": "d311b66c",
   "metadata": {},
   "outputs": [
    {
     "data": {
      "text/plain": [
       "0.8342199288437355"
      ]
     },
     "execution_count": 61,
     "metadata": {},
     "output_type": "execute_result"
    }
   ],
   "source": [
    "p = .03\n",
    "n = (22 * 3) * .9\n",
    "\n",
    "target = 1\n",
    "\n",
    "stats.binom(n, p).sf(target-1)"
   ]
  },
  {
   "cell_type": "code",
   "execution_count": 62,
   "id": "a4cc0a48",
   "metadata": {},
   "outputs": [
    {
     "data": {
      "image/png": "[encoded data removed]",
      "text/plain": [
       "<Figure size 432x288 with 1 Axes>"
      ]
     },
     "metadata": {
      "needs_background": "light"
     },
     "output_type": "display_data"
    }
   ],
   "source": [
    "x = np.arange(0,10)\n",
    "y = stats.binom(n,p).pmf(x)\n",
    "\n",
    "plt.bar(x,y)\n",
    "plt.xlabel('Num of time area is cleaned per day');"
   ]
  },
  {
   "cell_type": "markdown",
   "id": "acdc7914",
   "metadata": {},
   "source": [
    "#### 2 days without cleaning"
   ]
  },
  {
   "cell_type": "code",
   "execution_count": 31,
   "id": "b868761f",
   "metadata": {},
   "outputs": [
    {
     "data": {
      "text/plain": [
       "0.027483031992576113"
      ]
     },
     "execution_count": 31,
     "metadata": {},
     "output_type": "execute_result"
    }
   ],
   "source": [
    "(1-stats.binom(n_trials, p).sf(target-1))**2"
   ]
  },
  {
   "cell_type": "markdown",
   "id": "359dc496",
   "metadata": {},
   "source": [
    "#### All week"
   ]
  },
  {
   "cell_type": "code",
   "execution_count": 29,
   "id": "c0a972c4",
   "metadata": {},
   "outputs": [
    {
     "data": {
      "text/plain": [
       "0.0001252165138809122"
      ]
     },
     "execution_count": 29,
     "metadata": {},
     "output_type": "execute_result"
    }
   ],
   "source": [
    "(1-stats.binom(n_trials, p).sf(target-1))**5"
   ]
  },
  {
   "cell_type": "markdown",
   "id": "288bfb62",
   "metadata": {},
   "source": [
    "### 6. You want to get lunch at La Panaderia, but notice that the line is usually very long at lunchtime. After several weeks of careful observation, you notice that the average number of people in line when your lunch break starts is normally distributed with a mean of 15 and standard deviation of 3. If it takes 2 minutes for each person to order, and 10 minutes from ordering to getting your food, what is the likelihood that you have at least 15 minutes left to eat your food before you have to go back to class? Assume you have one hour for lunch, and ignore travel time to and from La Panaderia."
   ]
  },
  {
   "cell_type": "code",
   "execution_count": 34,
   "id": "41ce4e75",
   "metadata": {},
   "outputs": [
    {
     "data": {
      "text/plain": [
       "0.7976716190363569"
      ]
     },
     "execution_count": 34,
     "metadata": {},
     "output_type": "execute_result"
    }
   ],
   "source": [
    "mean = 15\n",
    "sd = 3\n",
    "\n",
    "time_per_order = 2\n",
    "\n",
    "time_to_get_food = 10\n",
    "time_to_eat_food = 15\n",
    "\n",
    "total_time = 60\n",
    "\n",
    "max_time_in_line = total_time - time_to_get_food - time_to_eat_food\n",
    "\n",
    "max_customers_in_line = max_time_in_line / time_per_order\n",
    "\n",
    "stats.norm(mean, sd).cdf(max_customers_in_line)"
   ]
  },
  {
   "cell_type": "markdown",
   "id": "8d388122",
   "metadata": {},
   "source": [
    "### 7. Connect to the employees database and find the average salary of current employees, along with the standard deviation. For the following questions, calculate the answer based on modeling the employees salaries with a normal distribution defined by the calculated mean and standard deviation then compare this answer to the actual values present in the salaries dataset.\n",
    "\n",
    "- a.) What percent of employees earn less than 60,000?\n",
    "- b.) What percent of employees earn more than 95,000?\n",
    "- c.) What percent of employees earn between 65,000 and 80,000?\n",
    "- d.) What do the top 5% of employees make?"
   ]
  },
  {
   "cell_type": "code",
   "execution_count": 67,
   "id": "7db2ea35",
   "metadata": {},
   "outputs": [],
   "source": [
    "def get_data_from_sql(user, host, password, database, query):\n",
    "    url = f'mysql+pymysql://{user}:{password}@{host}/{database}'\n",
    "    return pd.read_sql(query, url)"
   ]
  },
  {
   "cell_type": "code",
   "execution_count": 68,
   "id": "b2ebedac",
   "metadata": {},
   "outputs": [],
   "source": [
    "database = 'employees'\n",
    "\n",
    "query = \"\"\"\n",
    "\n",
    "SELECT salary\n",
    "FROM salaries\n",
    "\n",
    "where salaries.to_date = \"9999-01-01\"\n",
    "\n",
    "\"\"\"\n",
    "\n",
    "df = get_data_from_sql(user, host, password, database, query)"
   ]
  },
  {
   "cell_type": "markdown",
   "id": "d1898496",
   "metadata": {},
   "source": [
    "# a."
   ]
  },
  {
   "cell_type": "code",
   "execution_count": 69,
   "id": "6c9f63c1",
   "metadata": {},
   "outputs": [],
   "source": [
    "mean_salary = round(df.salary.mean(),0)\n",
    "sd_salary = round(df.salary.agg(np.std),0)"
   ]
  },
  {
   "cell_type": "code",
   "execution_count": 70,
   "id": "664b0ba4",
   "metadata": {},
   "outputs": [
    {
     "data": {
      "text/plain": [
       "0.2438617554963023"
      ]
     },
     "execution_count": 70,
     "metadata": {},
     "output_type": "execute_result"
    }
   ],
   "source": [
    "stats.norm(mean_salary, sd_salary).cdf(60_000)"
   ]
  },
  {
   "cell_type": "code",
   "execution_count": 71,
   "id": "1daf3f4c",
   "metadata": {},
   "outputs": [
    {
     "data": {
      "text/plain": [
       "0.2705727041028802"
      ]
     },
     "execution_count": 71,
     "metadata": {},
     "output_type": "execute_result"
    }
   ],
   "source": [
    "len(df[df.salary < 60_000]) / len(df)"
   ]
  },
  {
   "cell_type": "markdown",
   "id": "97d19e8f",
   "metadata": {},
   "source": [
    "# b."
   ]
  },
  {
   "cell_type": "code",
   "execution_count": 72,
   "id": "a038dfdc",
   "metadata": {},
   "outputs": [
    {
     "data": {
      "text/plain": [
       "0.09208599994106093"
      ]
     },
     "execution_count": 72,
     "metadata": {},
     "output_type": "execute_result"
    }
   ],
   "source": [
    "stats.norm(mean_salary, sd_salary).sf(95_000)"
   ]
  },
  {
   "cell_type": "code",
   "execution_count": 73,
   "id": "68037f5e",
   "metadata": {},
   "outputs": [
    {
     "data": {
      "text/plain": [
       "0.1086272092752078"
      ]
     },
     "execution_count": 73,
     "metadata": {},
     "output_type": "execute_result"
    }
   ],
   "source": [
    "len(df[df.salary > 95_000]) / len(df)"
   ]
  },
  {
   "cell_type": "markdown",
   "id": "1060de0a",
   "metadata": {},
   "source": [
    "# c."
   ]
  },
  {
   "cell_type": "code",
   "execution_count": 74,
   "id": "8017fdad",
   "metadata": {},
   "outputs": [
    {
     "data": {
      "text/plain": [
       "0.335060363819384"
      ]
     },
     "execution_count": 74,
     "metadata": {},
     "output_type": "execute_result"
    }
   ],
   "source": [
    "stats.norm(mean_salary, sd_salary).cdf(80_000) - stats.norm(mean_salary, sd_salary).cdf(65_000)"
   ]
  },
  {
   "cell_type": "markdown",
   "id": "25b5d777",
   "metadata": {},
   "source": [
    "# d."
   ]
  },
  {
   "cell_type": "code",
   "execution_count": 75,
   "id": "d1f21234",
   "metadata": {},
   "outputs": [
    {
     "data": {
      "text/plain": [
       "100484.41628253"
      ]
     },
     "execution_count": 75,
     "metadata": {},
     "output_type": "execute_result"
    }
   ],
   "source": [
    "stats.norm(mean_salary, sd_salary).isf(.05)"
   ]
  }
 ],
 "metadata": {
  "kernelspec": {
   "display_name": "Python 3.8.8 64-bit ('base': conda)",
   "language": "python",
   "name": "python388jvsc74a57bd0b64057e63add2b45b1ffc7eab9b09c8889b419c878e2fdf0d08f837f0fc857a7"
  },
  "language_info": {
   "codemirror_mode": {
    "name": "ipython",
    "version": 3
   },
   "file_extension": ".py",
   "mimetype": "text/x-python",
   "name": "python",
   "nbconvert_exporter": "python",
   "pygments_lexer": "ipython3",
   "version": "3.8.8"
  }
 },
 "nbformat": 4,
 "nbformat_minor": 5
}
