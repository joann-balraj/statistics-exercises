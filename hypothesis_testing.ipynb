{
 "cells": [
  {
   "cell_type": "markdown",
   "id": "313d0cce",
   "metadata": {},
   "source": [
    "# Exercises"
   ]
  },
  {
   "cell_type": "markdown",
   "id": "fd1eb808",
   "metadata": {},
   "source": [
    " For each of the following questions, formulate a null and alternative hypothesis (be as specific as you can be), then give an example of what a true positive, true negative, type I and type II errors would look like. Note that some of the questions are intentionally phrased in a vague way. It is your job to reword these as more precise questions that could be tested."
   ]
  },
  {
   "cell_type": "markdown",
   "id": "8d5ef503",
   "metadata": {},
   "source": [
    "# Has the network latency gone up since we switched internet service providers?\n"
   ]
  },
  {
   "cell_type": "markdown",
   "id": "6e5f1732",
   "metadata": {},
   "source": [
    "##### Ho: The network latency has not gone up since we switched internet service providers.\n",
    "\n",
    "##### Ha: The network latency has gone up since we switched internet service providers."
   ]
  },
  {
   "cell_type": "markdown",
   "id": "f7c4e981",
   "metadata": {},
   "source": [
    "#### True neg: \n",
    "No change in latency. Correct inference. `P = 1-a`\n",
    "#### True pos:\n",
    "Latency has gone up. Correct inference. `P = 1 - b`\n",
    "\n",
    "#### Type I error: \n",
    "Concluded that latency has gone up, when there is no change. `P=b`\n",
    "\n",
    "#### Type II error:\n",
    "Conclude there is no change in latency when there really is a change. `P=b`\n"
   ]
  },
  {
   "cell_type": "markdown",
   "id": "ecbc94bd",
   "metadata": {},
   "source": [
    "# Is the website redesign any good?"
   ]
  },
  {
   "cell_type": "markdown",
   "id": "0c6bf933",
   "metadata": {},
   "source": [
    "##### Ho: The website redesign is not effective in grabbing customers' attention.\n",
    "\n",
    "##### Ha: The website redesign effectively captures customers' attention."
   ]
  },
  {
   "cell_type": "markdown",
   "id": "dc032f8b",
   "metadata": {},
   "source": [
    "#### True neg: \n",
    "No change in customer attention. Correct inference. `P = 1-a`\n",
    "\n",
    "#### True pos:\n",
    "Customer attention has gone up. Correct inference. `P = 1 - b`\n",
    "\n",
    "#### Type I error: \n",
    "Concluded that customer attention has gone up, when there is no change. `P=b`\n",
    "\n",
    "#### Type II error:\n",
    "Conclude there is no change in customer attention when there really is a change. `P=b`"
   ]
  },
  {
   "cell_type": "markdown",
   "id": "133bf27b",
   "metadata": {},
   "source": [
    "# Is our television ad driving more sales?\n"
   ]
  },
  {
   "cell_type": "markdown",
   "id": "9de0bbe2",
   "metadata": {},
   "source": [
    "##### Ho: Our television ad does not reach enough people to drive more sales.\n",
    "\n",
    "##### Ha: Our television ad reaches enough people to drive more sales."
   ]
  },
  {
   "cell_type": "markdown",
   "id": "510d86a0",
   "metadata": {},
   "source": [
    "#### True neg: \n",
    "No change in amount of people reached. Correct inference. `P = 1-a`\n",
    "\n",
    "#### True pos:\n",
    "Amount of people reached has gone up. Correct inference. `P = 1 - b`\n",
    "\n",
    "#### Type I error: \n",
    "Concluded that the amount of people reached has gone up, when there is no change. `P=b`\n",
    "\n",
    "#### Type II error:\n",
    "Conclude there is no change in the amount of people reached when there really is a change. `P=b`"
   ]
  },
  {
   "cell_type": "markdown",
   "id": "69ccf702",
   "metadata": {},
   "source": [
    "# T-Test"
   ]
  },
  {
   "cell_type": "markdown",
   "id": "d65fcfc3",
   "metadata": {},
   "source": [
    "### Examples"
   ]
  },
  {
   "cell_type": "code",
   "execution_count": 16,
   "id": "d6c2d1d3",
   "metadata": {},
   "outputs": [],
   "source": [
    "from math import sqrt\n",
    "from scipy import stats\n",
    "\n",
    "%matplotlib inline\n",
    "import matplotlib.pyplot as plt\n",
    "import numpy as np\n",
    "import pandas as pd\n",
    "\n",
    "url = \"https://gist.githubusercontent.com/ryanorsinger/2c13a71421037af127e9fa7fa1463cad/raw/3eb443414078b51af33fdb2d211159e5f3e220ab/exam_scores.csv\"\n",
    "df = pd.read_csv(url)\n",
    "\n",
    "df.study_strategy.fillna('None', inplace=True)"
   ]
  },
  {
   "cell_type": "code",
   "execution_count": 5,
   "id": "bb395ea1",
   "metadata": {},
   "outputs": [
    {
     "data": {
      "text/html": [
       "<div>\n",
       "<style scoped>\n",
       "    .dataframe tbody tr th:only-of-type {\n",
       "        vertical-align: middle;\n",
       "    }\n",
       "\n",
       "    .dataframe tbody tr th {\n",
       "        vertical-align: top;\n",
       "    }\n",
       "\n",
       "    .dataframe thead th {\n",
       "        text-align: right;\n",
       "    }\n",
       "</style>\n",
       "<table border=\"1\" class=\"dataframe\">\n",
       "  <thead>\n",
       "    <tr style=\"text-align: right;\">\n",
       "      <th></th>\n",
       "      <th>exam_score</th>\n",
       "      <th>hours_studied</th>\n",
       "      <th>study_strategy</th>\n",
       "      <th>handedness</th>\n",
       "      <th>coffee_consumed</th>\n",
       "      <th>hours_slept</th>\n",
       "    </tr>\n",
       "  </thead>\n",
       "  <tbody>\n",
       "    <tr>\n",
       "      <th>0</th>\n",
       "      <td>100.591011</td>\n",
       "      <td>9.126291</td>\n",
       "      <td>flashcards</td>\n",
       "      <td>left</td>\n",
       "      <td>0</td>\n",
       "      <td>11</td>\n",
       "    </tr>\n",
       "    <tr>\n",
       "      <th>1</th>\n",
       "      <td>95.637086</td>\n",
       "      <td>9.677438</td>\n",
       "      <td>flashcards</td>\n",
       "      <td>left</td>\n",
       "      <td>1</td>\n",
       "      <td>10</td>\n",
       "    </tr>\n",
       "    <tr>\n",
       "      <th>2</th>\n",
       "      <td>53.200296</td>\n",
       "      <td>4.550207</td>\n",
       "      <td>None</td>\n",
       "      <td>right</td>\n",
       "      <td>5</td>\n",
       "      <td>6</td>\n",
       "    </tr>\n",
       "    <tr>\n",
       "      <th>3</th>\n",
       "      <td>63.934268</td>\n",
       "      <td>6.487848</td>\n",
       "      <td>flashcards</td>\n",
       "      <td>right</td>\n",
       "      <td>4</td>\n",
       "      <td>7</td>\n",
       "    </tr>\n",
       "    <tr>\n",
       "      <th>4</th>\n",
       "      <td>51.186370</td>\n",
       "      <td>6.720959</td>\n",
       "      <td>flashcards</td>\n",
       "      <td>right</td>\n",
       "      <td>5</td>\n",
       "      <td>6</td>\n",
       "    </tr>\n",
       "  </tbody>\n",
       "</table>\n",
       "</div>"
      ],
      "text/plain": [
       "   exam_score  hours_studied study_strategy handedness  coffee_consumed  \\\n",
       "0  100.591011       9.126291     flashcards       left                0   \n",
       "1   95.637086       9.677438     flashcards       left                1   \n",
       "2   53.200296       4.550207           None      right                5   \n",
       "3   63.934268       6.487848     flashcards      right                4   \n",
       "4   51.186370       6.720959     flashcards      right                5   \n",
       "\n",
       "   hours_slept  \n",
       "0           11  \n",
       "1           10  \n",
       "2            6  \n",
       "3            7  \n",
       "4            6  "
      ]
     },
     "execution_count": 5,
     "metadata": {},
     "output_type": "execute_result"
    }
   ],
   "source": [
    "df.head()"
   ]
  },
  {
   "cell_type": "code",
   "execution_count": 6,
   "id": "e2ec8237",
   "metadata": {},
   "outputs": [
    {
     "name": "stderr",
     "output_type": "stream",
     "text": [
      "/opt/homebrew/anaconda3/lib/python3.8/site-packages/seaborn/distributions.py:2557: FutureWarning: `distplot` is a deprecated function and will be removed in a future version. Please adapt your code to use either `displot` (a figure-level function with similar flexibility) or `histplot` (an axes-level function for histograms).\n",
      "  warnings.warn(msg, FutureWarning)\n"
     ]
    },
    {
     "data": {
      "text/plain": [
       "<AxesSubplot:xlabel='exam_score', ylabel='Density'>"
      ]
     },
     "execution_count": 6,
     "metadata": {},
     "output_type": "execute_result"
    },
    {
     "data": {
      "image/png": "[encoded data removed]",
      "text/plain": [
       "<Figure size 432x288 with 1 Axes>"
      ]
     },
     "metadata": {
      "needs_background": "light"
     },
     "output_type": "display_data"
    }
   ],
   "source": [
    "import seaborn as sns\n",
    "\n",
    "sns.distplot(df.exam_score)"
   ]
  },
  {
   "cell_type": "code",
   "execution_count": 8,
   "id": "07eadb51",
   "metadata": {},
   "outputs": [
    {
     "data": {
      "text/plain": [
       "(55.28336550715703, 58.35658448399582)"
      ]
     },
     "execution_count": 8,
     "metadata": {},
     "output_type": "execute_result"
    }
   ],
   "source": [
    "df.exam_score.mean(), df.exam_score.median()"
   ]
  },
  {
   "cell_type": "code",
   "execution_count": 9,
   "id": "5756a2f3",
   "metadata": {},
   "outputs": [
    {
     "data": {
      "text/plain": [
       "0.49180552940467903"
      ]
     },
     "execution_count": 9,
     "metadata": {},
     "output_type": "execute_result"
    }
   ],
   "source": [
    "lefties = df[df.handedness == 'left']\n",
    "\n",
    "μ = df.exam_score.mean()\n",
    "xbar = lefties.exam_score.mean()\n",
    "s = lefties.exam_score.std()\n",
    "n = lefties.shape[0]\n",
    "degf = n - 1\n",
    "standard_error = s / sqrt(n)\n",
    "\n",
    "t = (xbar - μ) / (s / sqrt(n))\n",
    "t"
   ]
  },
  {
   "cell_type": "markdown",
   "id": "d1297738",
   "metadata": {},
   "source": [
    "# Exercises"
   ]
  },
  {
   "cell_type": "markdown",
   "id": "a76e624b",
   "metadata": {},
   "source": [
    "## 1. Ace Realty wants to determine whether the average time it takes to sell homes is different for its two offices. A sample of 40 sales from office #1 revealed a mean of 90 days and a standard deviation of 15 days. A sample of 50 sales from office #2 revealed a mean of 100 days and a standard deviation of 20 days. Use a .05 level of significance."
   ]
  },
  {
   "cell_type": "markdown",
   "id": "97cdfbd6",
   "metadata": {},
   "source": [
    "###### What?\n",
    "avg time to sell houses for two different offices\n",
    "\n",
    "Ho: There is no difference in average time to sell at two offices\n",
    "\n",
    "Ha: There is difference in average time to sell at two offices\n",
    "\n",
    "Significance level alpha = 0.05"
   ]
  },
  {
   "cell_type": "code",
   "execution_count": 28,
   "id": "d9d1e19c",
   "metadata": {},
   "outputs": [
    {
     "data": {
      "text/plain": [
       "<matplotlib.legend.Legend at 0x7fe3ca7962b0>"
      ]
     },
     "execution_count": 28,
     "metadata": {},
     "output_type": "execute_result"
    },
    {
     "data": {
      "image/png": "[encoded data removed]",
      "text/plain": [
       "<Figure size 432x288 with 1 Axes>"
      ]
     },
     "metadata": {
      "needs_background": "light"
     },
     "output_type": "display_data"
    }
   ],
   "source": [
    "x = np.arange(50,150)\n",
    "\n",
    "y1 = stats.norm(90,15).pdf(x)\n",
    "y2 = stats.norm(100,20).pdf(x)\n",
    "\n",
    "\n",
    "plt.plot(x, y1, label = 'office 1')\n",
    "plt.plot(x, y2, label = 'office 2')\n",
    "\n",
    "plt.legend()"
   ]
  },
  {
   "cell_type": "code",
   "execution_count": 10,
   "id": "291b1f9a",
   "metadata": {},
   "outputs": [],
   "source": [
    "sample1 = 40\n",
    "mean1 = 90\n",
    "std1 = 15\n",
    "\n",
    "sample2 = 50\n",
    "mean2 = 100\n",
    "std2 = 20\n",
    "\n",
    "alpha = .05"
   ]
  },
  {
   "cell_type": "code",
   "execution_count": 13,
   "id": "f7c46327",
   "metadata": {},
   "outputs": [
    {
     "data": {
      "text/plain": [
       "28375"
      ]
     },
     "execution_count": 13,
     "metadata": {},
     "output_type": "execute_result"
    }
   ],
   "source": [
    "(40 - 1)*(15**2) + (50 - 1)*(20**2)"
   ]
  },
  {
   "cell_type": "code",
   "execution_count": 14,
   "id": "75401de7",
   "metadata": {},
   "outputs": [
    {
     "data": {
      "text/plain": [
       "322.4431818181818"
      ]
     },
     "execution_count": 14,
     "metadata": {},
     "output_type": "execute_result"
    }
   ],
   "source": [
    "28375/((40+50) - 2)"
   ]
  },
  {
   "cell_type": "code",
   "execution_count": 18,
   "id": "ca5bacbd",
   "metadata": {},
   "outputs": [
    {
     "data": {
      "text/plain": [
       "17.956702977389302"
      ]
     },
     "execution_count": 18,
     "metadata": {},
     "output_type": "execute_result"
    }
   ],
   "source": [
    "sp = sqrt(322.4431818181818)\n",
    "sp"
   ]
  },
  {
   "cell_type": "code",
   "execution_count": 24,
   "id": "c298e618",
   "metadata": {},
   "outputs": [
    {
     "data": {
      "text/plain": [
       "0.21213203435596426"
      ]
     },
     "execution_count": 24,
     "metadata": {},
     "output_type": "execute_result"
    }
   ],
   "source": [
    "(sqrt((1/40) + (1/50)))"
   ]
  },
  {
   "cell_type": "code",
   "execution_count": 25,
   "id": "817131f5",
   "metadata": {},
   "outputs": [
    {
     "data": {
      "text/plain": [
       "3.809191932919393"
      ]
     },
     "execution_count": 25,
     "metadata": {},
     "output_type": "execute_result"
    }
   ],
   "source": [
    "0.21213203435596426*sp"
   ]
  },
  {
   "cell_type": "code",
   "execution_count": 29,
   "id": "555e0191",
   "metadata": {},
   "outputs": [
    {
     "data": {
      "text/plain": [
       "2.6252287036468456"
      ]
     },
     "execution_count": 29,
     "metadata": {},
     "output_type": "execute_result"
    }
   ],
   "source": [
    "t = (mean2 - mean1)/3.809191932919393\n",
    "t"
   ]
  },
  {
   "cell_type": "code",
   "execution_count": 34,
   "id": "a8599214",
   "metadata": {},
   "outputs": [
    {
     "data": {
      "text/plain": [
       "88"
      ]
     },
     "execution_count": 34,
     "metadata": {},
     "output_type": "execute_result"
    }
   ],
   "source": [
    "df = (sample1 + sample2) -2\n",
    "df"
   ]
  },
  {
   "cell_type": "code",
   "execution_count": 32,
   "id": "0271fac4",
   "metadata": {},
   "outputs": [
    {
     "name": "stdout",
     "output_type": "stream",
     "text": [
      "p = 0.0102\n"
     ]
    }
   ],
   "source": [
    "p = stats.t(df).sf(t) * 2\n",
    "print(f'p = {p:.3}')"
   ]
  },
  {
   "cell_type": "code",
   "execution_count": 40,
   "id": "7349163d",
   "metadata": {},
   "outputs": [
    {
     "name": "stdout",
     "output_type": "stream",
     "text": [
      "Because the p-value (0.01020985244923939) is less than alpha value (0.05), we reject the null hypothesis\n"
     ]
    }
   ],
   "source": [
    "print(f'Because the p-value ({p}) is less than alpha value ({alpha}), we reject the null hypothesis')"
   ]
  },
  {
   "cell_type": "markdown",
   "id": "03be9932",
   "metadata": {},
   "source": [
    "## 2. Load the mpg dataset and use it to answer the following questions:\n",
    "\n",
    "- a.) Is there a difference in fuel-efficiency in cars from 2008 vs 1999?\n",
    "- b.) Are compact cars more fuel-efficient than the average car?\n",
    "- c.) Do manual cars get better gas mileage than automatic cars?"
   ]
  },
  {
   "cell_type": "markdown",
   "id": "a923714a",
   "metadata": {},
   "source": [
    "# a."
   ]
  },
  {
   "cell_type": "markdown",
   "id": "11f6a5df",
   "metadata": {},
   "source": [
    "Ho: there is no difference in fuel-efficiency in cars from 2008 vs 1999\n",
    "\n",
    "Ha: there is a difference in fuel-efficiency in cars from 2008 vs 1999"
   ]
  },
  {
   "cell_type": "code",
   "execution_count": 80,
   "id": "7a385fe7",
   "metadata": {},
   "outputs": [
    {
     "data": {
      "text/html": [
       "<div>\n",
       "<style scoped>\n",
       "    .dataframe tbody tr th:only-of-type {\n",
       "        vertical-align: middle;\n",
       "    }\n",
       "\n",
       "    .dataframe tbody tr th {\n",
       "        vertical-align: top;\n",
       "    }\n",
       "\n",
       "    .dataframe thead th {\n",
       "        text-align: right;\n",
       "    }\n",
       "</style>\n",
       "<table border=\"1\" class=\"dataframe\">\n",
       "  <thead>\n",
       "    <tr style=\"text-align: right;\">\n",
       "      <th></th>\n",
       "      <th>manufacturer</th>\n",
       "      <th>model</th>\n",
       "      <th>displ</th>\n",
       "      <th>year</th>\n",
       "      <th>cyl</th>\n",
       "      <th>trans</th>\n",
       "      <th>drv</th>\n",
       "      <th>cty</th>\n",
       "      <th>hwy</th>\n",
       "      <th>fl</th>\n",
       "      <th>class</th>\n",
       "    </tr>\n",
       "  </thead>\n",
       "  <tbody>\n",
       "    <tr>\n",
       "      <th>1</th>\n",
       "      <td>audi</td>\n",
       "      <td>a4</td>\n",
       "      <td>1.8</td>\n",
       "      <td>1999</td>\n",
       "      <td>4</td>\n",
       "      <td>auto(l5)</td>\n",
       "      <td>f</td>\n",
       "      <td>18</td>\n",
       "      <td>29</td>\n",
       "      <td>p</td>\n",
       "      <td>compact</td>\n",
       "    </tr>\n",
       "    <tr>\n",
       "      <th>2</th>\n",
       "      <td>audi</td>\n",
       "      <td>a4</td>\n",
       "      <td>1.8</td>\n",
       "      <td>1999</td>\n",
       "      <td>4</td>\n",
       "      <td>manual(m5)</td>\n",
       "      <td>f</td>\n",
       "      <td>21</td>\n",
       "      <td>29</td>\n",
       "      <td>p</td>\n",
       "      <td>compact</td>\n",
       "    </tr>\n",
       "    <tr>\n",
       "      <th>3</th>\n",
       "      <td>audi</td>\n",
       "      <td>a4</td>\n",
       "      <td>2.0</td>\n",
       "      <td>2008</td>\n",
       "      <td>4</td>\n",
       "      <td>manual(m6)</td>\n",
       "      <td>f</td>\n",
       "      <td>20</td>\n",
       "      <td>31</td>\n",
       "      <td>p</td>\n",
       "      <td>compact</td>\n",
       "    </tr>\n",
       "    <tr>\n",
       "      <th>4</th>\n",
       "      <td>audi</td>\n",
       "      <td>a4</td>\n",
       "      <td>2.0</td>\n",
       "      <td>2008</td>\n",
       "      <td>4</td>\n",
       "      <td>auto(av)</td>\n",
       "      <td>f</td>\n",
       "      <td>21</td>\n",
       "      <td>30</td>\n",
       "      <td>p</td>\n",
       "      <td>compact</td>\n",
       "    </tr>\n",
       "    <tr>\n",
       "      <th>5</th>\n",
       "      <td>audi</td>\n",
       "      <td>a4</td>\n",
       "      <td>2.8</td>\n",
       "      <td>1999</td>\n",
       "      <td>6</td>\n",
       "      <td>auto(l5)</td>\n",
       "      <td>f</td>\n",
       "      <td>16</td>\n",
       "      <td>26</td>\n",
       "      <td>p</td>\n",
       "      <td>compact</td>\n",
       "    </tr>\n",
       "    <tr>\n",
       "      <th>...</th>\n",
       "      <td>...</td>\n",
       "      <td>...</td>\n",
       "      <td>...</td>\n",
       "      <td>...</td>\n",
       "      <td>...</td>\n",
       "      <td>...</td>\n",
       "      <td>...</td>\n",
       "      <td>...</td>\n",
       "      <td>...</td>\n",
       "      <td>...</td>\n",
       "      <td>...</td>\n",
       "    </tr>\n",
       "    <tr>\n",
       "      <th>230</th>\n",
       "      <td>volkswagen</td>\n",
       "      <td>passat</td>\n",
       "      <td>2.0</td>\n",
       "      <td>2008</td>\n",
       "      <td>4</td>\n",
       "      <td>auto(s6)</td>\n",
       "      <td>f</td>\n",
       "      <td>19</td>\n",
       "      <td>28</td>\n",
       "      <td>p</td>\n",
       "      <td>midsize</td>\n",
       "    </tr>\n",
       "    <tr>\n",
       "      <th>231</th>\n",
       "      <td>volkswagen</td>\n",
       "      <td>passat</td>\n",
       "      <td>2.0</td>\n",
       "      <td>2008</td>\n",
       "      <td>4</td>\n",
       "      <td>manual(m6)</td>\n",
       "      <td>f</td>\n",
       "      <td>21</td>\n",
       "      <td>29</td>\n",
       "      <td>p</td>\n",
       "      <td>midsize</td>\n",
       "    </tr>\n",
       "    <tr>\n",
       "      <th>232</th>\n",
       "      <td>volkswagen</td>\n",
       "      <td>passat</td>\n",
       "      <td>2.8</td>\n",
       "      <td>1999</td>\n",
       "      <td>6</td>\n",
       "      <td>auto(l5)</td>\n",
       "      <td>f</td>\n",
       "      <td>16</td>\n",
       "      <td>26</td>\n",
       "      <td>p</td>\n",
       "      <td>midsize</td>\n",
       "    </tr>\n",
       "    <tr>\n",
       "      <th>233</th>\n",
       "      <td>volkswagen</td>\n",
       "      <td>passat</td>\n",
       "      <td>2.8</td>\n",
       "      <td>1999</td>\n",
       "      <td>6</td>\n",
       "      <td>manual(m5)</td>\n",
       "      <td>f</td>\n",
       "      <td>18</td>\n",
       "      <td>26</td>\n",
       "      <td>p</td>\n",
       "      <td>midsize</td>\n",
       "    </tr>\n",
       "    <tr>\n",
       "      <th>234</th>\n",
       "      <td>volkswagen</td>\n",
       "      <td>passat</td>\n",
       "      <td>3.6</td>\n",
       "      <td>2008</td>\n",
       "      <td>6</td>\n",
       "      <td>auto(s6)</td>\n",
       "      <td>f</td>\n",
       "      <td>17</td>\n",
       "      <td>26</td>\n",
       "      <td>p</td>\n",
       "      <td>midsize</td>\n",
       "    </tr>\n",
       "  </tbody>\n",
       "</table>\n",
       "<p>234 rows × 11 columns</p>\n",
       "</div>"
      ],
      "text/plain": [
       "    manufacturer   model  displ  year  cyl       trans drv  cty  hwy fl  \\\n",
       "1           audi      a4    1.8  1999    4    auto(l5)   f   18   29  p   \n",
       "2           audi      a4    1.8  1999    4  manual(m5)   f   21   29  p   \n",
       "3           audi      a4    2.0  2008    4  manual(m6)   f   20   31  p   \n",
       "4           audi      a4    2.0  2008    4    auto(av)   f   21   30  p   \n",
       "5           audi      a4    2.8  1999    6    auto(l5)   f   16   26  p   \n",
       "..           ...     ...    ...   ...  ...         ...  ..  ...  ... ..   \n",
       "230   volkswagen  passat    2.0  2008    4    auto(s6)   f   19   28  p   \n",
       "231   volkswagen  passat    2.0  2008    4  manual(m6)   f   21   29  p   \n",
       "232   volkswagen  passat    2.8  1999    6    auto(l5)   f   16   26  p   \n",
       "233   volkswagen  passat    2.8  1999    6  manual(m5)   f   18   26  p   \n",
       "234   volkswagen  passat    3.6  2008    6    auto(s6)   f   17   26  p   \n",
       "\n",
       "       class  \n",
       "1    compact  \n",
       "2    compact  \n",
       "3    compact  \n",
       "4    compact  \n",
       "5    compact  \n",
       "..       ...  \n",
       "230  midsize  \n",
       "231  midsize  \n",
       "232  midsize  \n",
       "233  midsize  \n",
       "234  midsize  \n",
       "\n",
       "[234 rows x 11 columns]"
      ]
     },
     "execution_count": 80,
     "metadata": {},
     "output_type": "execute_result"
    }
   ],
   "source": [
    "from pydataset import data\n",
    "mpg = data('mpg')\n",
    "mpg"
   ]
  },
  {
   "cell_type": "code",
   "execution_count": 90,
   "id": "7a4c7c78",
   "metadata": {},
   "outputs": [
    {
     "data": {
      "text/html": [
       "<div>\n",
       "<style scoped>\n",
       "    .dataframe tbody tr th:only-of-type {\n",
       "        vertical-align: middle;\n",
       "    }\n",
       "\n",
       "    .dataframe tbody tr th {\n",
       "        vertical-align: top;\n",
       "    }\n",
       "\n",
       "    .dataframe thead th {\n",
       "        text-align: right;\n",
       "    }\n",
       "</style>\n",
       "<table border=\"1\" class=\"dataframe\">\n",
       "  <thead>\n",
       "    <tr style=\"text-align: right;\">\n",
       "      <th></th>\n",
       "      <th>manufacturer</th>\n",
       "      <th>model</th>\n",
       "      <th>displ</th>\n",
       "      <th>year</th>\n",
       "      <th>cyl</th>\n",
       "      <th>trans</th>\n",
       "      <th>drv</th>\n",
       "      <th>cty</th>\n",
       "      <th>hwy</th>\n",
       "      <th>fl</th>\n",
       "      <th>class</th>\n",
       "      <th>avg_mpg</th>\n",
       "    </tr>\n",
       "  </thead>\n",
       "  <tbody>\n",
       "    <tr>\n",
       "      <th>1</th>\n",
       "      <td>audi</td>\n",
       "      <td>a4</td>\n",
       "      <td>1.8</td>\n",
       "      <td>1999</td>\n",
       "      <td>4</td>\n",
       "      <td>auto(l5)</td>\n",
       "      <td>f</td>\n",
       "      <td>18</td>\n",
       "      <td>29</td>\n",
       "      <td>p</td>\n",
       "      <td>compact</td>\n",
       "      <td>22.212766</td>\n",
       "    </tr>\n",
       "    <tr>\n",
       "      <th>2</th>\n",
       "      <td>audi</td>\n",
       "      <td>a4</td>\n",
       "      <td>1.8</td>\n",
       "      <td>1999</td>\n",
       "      <td>4</td>\n",
       "      <td>manual(m5)</td>\n",
       "      <td>f</td>\n",
       "      <td>21</td>\n",
       "      <td>29</td>\n",
       "      <td>p</td>\n",
       "      <td>compact</td>\n",
       "      <td>24.360000</td>\n",
       "    </tr>\n",
       "    <tr>\n",
       "      <th>3</th>\n",
       "      <td>audi</td>\n",
       "      <td>a4</td>\n",
       "      <td>2.0</td>\n",
       "      <td>2008</td>\n",
       "      <td>4</td>\n",
       "      <td>manual(m6)</td>\n",
       "      <td>f</td>\n",
       "      <td>20</td>\n",
       "      <td>31</td>\n",
       "      <td>p</td>\n",
       "      <td>compact</td>\n",
       "      <td>24.313725</td>\n",
       "    </tr>\n",
       "    <tr>\n",
       "      <th>4</th>\n",
       "      <td>audi</td>\n",
       "      <td>a4</td>\n",
       "      <td>2.0</td>\n",
       "      <td>2008</td>\n",
       "      <td>4</td>\n",
       "      <td>auto(av)</td>\n",
       "      <td>f</td>\n",
       "      <td>21</td>\n",
       "      <td>30</td>\n",
       "      <td>p</td>\n",
       "      <td>compact</td>\n",
       "      <td>24.705882</td>\n",
       "    </tr>\n",
       "    <tr>\n",
       "      <th>5</th>\n",
       "      <td>audi</td>\n",
       "      <td>a4</td>\n",
       "      <td>2.8</td>\n",
       "      <td>1999</td>\n",
       "      <td>6</td>\n",
       "      <td>auto(l5)</td>\n",
       "      <td>f</td>\n",
       "      <td>16</td>\n",
       "      <td>26</td>\n",
       "      <td>p</td>\n",
       "      <td>compact</td>\n",
       "      <td>19.809524</td>\n",
       "    </tr>\n",
       "  </tbody>\n",
       "</table>\n",
       "</div>"
      ],
      "text/plain": [
       "  manufacturer model  displ  year  cyl       trans drv  cty  hwy fl    class  \\\n",
       "1         audi    a4    1.8  1999    4    auto(l5)   f   18   29  p  compact   \n",
       "2         audi    a4    1.8  1999    4  manual(m5)   f   21   29  p  compact   \n",
       "3         audi    a4    2.0  2008    4  manual(m6)   f   20   31  p  compact   \n",
       "4         audi    a4    2.0  2008    4    auto(av)   f   21   30  p  compact   \n",
       "5         audi    a4    2.8  1999    6    auto(l5)   f   16   26  p  compact   \n",
       "\n",
       "     avg_mpg  \n",
       "1  22.212766  \n",
       "2  24.360000  \n",
       "3  24.313725  \n",
       "4  24.705882  \n",
       "5  19.809524  "
      ]
     },
     "execution_count": 90,
     "metadata": {},
     "output_type": "execute_result"
    }
   ],
   "source": [
    "mpg['avg_mpg'] = stats.hmean(mpg[['cty', 'hwy']], axis =1)\n",
    "mpg.head()"
   ]
  },
  {
   "cell_type": "code",
   "execution_count": 94,
   "id": "31a526aa",
   "metadata": {},
   "outputs": [],
   "source": [
    "cars_08 = mpg[mpg.year == 2008].avg_mpg\n",
    "cars_99 = mpg[mpg.year == 1999].avg_mpg"
   ]
  },
  {
   "cell_type": "code",
   "execution_count": 95,
   "id": "c379cc7d",
   "metadata": {},
   "outputs": [
    {
     "data": {
      "text/plain": [
       "<matplotlib.legend.Legend at 0x7fe3600b2a00>"
      ]
     },
     "execution_count": 95,
     "metadata": {},
     "output_type": "execute_result"
    },
    {
     "data": {
      "image/png": "[encoded data removed]",
      "text/plain": [
       "<Figure size 432x288 with 1 Axes>"
      ]
     },
     "metadata": {
      "needs_background": "light"
     },
     "output_type": "display_data"
    }
   ],
   "source": [
    "plt.hist([cars_99, cars_08], label=[\"1999 cars\", \"2008 cars\"])\n",
    "plt.legend(loc=\"upper right\")"
   ]
  },
  {
   "cell_type": "code",
   "execution_count": 96,
   "id": "81630b88",
   "metadata": {},
   "outputs": [
    {
     "data": {
      "text/plain": [
       "(-0.3011962975077886, 0.7635345888327115)"
      ]
     },
     "execution_count": 96,
     "metadata": {},
     "output_type": "execute_result"
    }
   ],
   "source": [
    "t, p = stats.ttest_ind(cars_2008, cars_1999)\n",
    "t, p"
   ]
  },
  {
   "cell_type": "code",
   "execution_count": 98,
   "id": "d24fbbf4",
   "metadata": {},
   "outputs": [
    {
     "name": "stdout",
     "output_type": "stream",
     "text": [
      "Because the p-value (0.7635345888327115) is greater than alpha value (0.05), we fail to reject the null hypothesis\n"
     ]
    }
   ],
   "source": [
    "print(f'Because the p-value ({p}) is greater than alpha value ({alpha}), we fail to reject the null hypothesis')"
   ]
  },
  {
   "cell_type": "markdown",
   "id": "e2244778",
   "metadata": {},
   "source": [
    "# b. "
   ]
  },
  {
   "cell_type": "markdown",
   "id": "74e22b6f",
   "metadata": {},
   "source": [
    "Ho: there is no difference in fuel-efficiency in compact cars and average cars\n",
    "\n",
    "Ha: there is a difference in fuel-efficiency in compact cars and average cars"
   ]
  },
  {
   "cell_type": "code",
   "execution_count": 110,
   "id": "d6bb4f41",
   "metadata": {},
   "outputs": [],
   "source": [
    "compact = mpg[mpg['class'] == 'compact'].avg_mpg\n",
    "average = mpg.avg_mpg"
   ]
  },
  {
   "cell_type": "code",
   "execution_count": 111,
   "id": "a9ca4db8",
   "metadata": {},
   "outputs": [
    {
     "data": {
      "image/png": "[encoded data removed]",
      "text/plain": [
       "<Figure size 432x288 with 1 Axes>"
      ]
     },
     "metadata": {
      "needs_background": "light"
     },
     "output_type": "display_data"
    }
   ],
   "source": [
    "plt.hist([compact, average], label=[\"compact cars\", \"average cars\"])\n",
    "plt.legend(loc=\"upper right\");"
   ]
  },
  {
   "cell_type": "code",
   "execution_count": 123,
   "id": "30fe3f08",
   "metadata": {},
   "outputs": [
    {
     "data": {
      "text/plain": [
       "(5.193903224387407, 1.9888764369810984e-07, 0.05)"
      ]
     },
     "execution_count": 123,
     "metadata": {},
     "output_type": "execute_result"
    }
   ],
   "source": [
    "t, p = stats.ttest_ind(compact, average)\n",
    "t, p/2, alpha"
   ]
  },
  {
   "cell_type": "code",
   "execution_count": 124,
   "id": "e34e6d70",
   "metadata": {},
   "outputs": [
    {
     "name": "stdout",
     "output_type": "stream",
     "text": [
      "Because the p-value (3.977752873962197e-07) is less than alpha value (0.05), we reject the null hypothesis\n"
     ]
    }
   ],
   "source": [
    "print(f'Because the p-value ({p}) is less than alpha value ({alpha}), we reject the null hypothesis')"
   ]
  },
  {
   "cell_type": "markdown",
   "id": "737fd6e7",
   "metadata": {},
   "source": [
    "# c."
   ]
  },
  {
   "cell_type": "markdown",
   "id": "5776fe3f",
   "metadata": {},
   "source": [
    "Ho: there is no difference in fuel-efficiency for manual cars and automatic cars\n",
    "\n",
    "Ha: there is a difference in fuel-efficiency for manual cars and automatic cars"
   ]
  },
  {
   "cell_type": "code",
   "execution_count": 108,
   "id": "bed6454f",
   "metadata": {},
   "outputs": [],
   "source": [
    "manual = mpg[mpg['trans'].str.startswith('m')].avg_mpg\n",
    "auto = mpg[mpg['trans'].str.startswith('a')].avg_mpg"
   ]
  },
  {
   "cell_type": "code",
   "execution_count": 114,
   "id": "fa851373",
   "metadata": {},
   "outputs": [
    {
     "data": {
      "image/png": "[encoded data removed]",
      "text/plain": [
       "<Figure size 432x288 with 1 Axes>"
      ]
     },
     "metadata": {
      "needs_background": "light"
     },
     "output_type": "display_data"
    }
   ],
   "source": [
    "plt.hist([manual, auto], label=[\"manual cars\", \"automatic cars\"])\n",
    "plt.legend(loc=\"upper right\");"
   ]
  },
  {
   "cell_type": "code",
   "execution_count": 126,
   "id": "d1063fe1",
   "metadata": {},
   "outputs": [
    {
     "data": {
      "text/plain": [
       "(4.652577547151351, 5.510464610044005e-06)"
      ]
     },
     "execution_count": 126,
     "metadata": {},
     "output_type": "execute_result"
    }
   ],
   "source": [
    "t, p = stats.ttest_ind(manual, auto)\n",
    "t, p"
   ]
  },
  {
   "cell_type": "code",
   "execution_count": 122,
   "id": "58a1cb73",
   "metadata": {},
   "outputs": [
    {
     "name": "stdout",
     "output_type": "stream",
     "text": [
      "Because the p-value (5.510464610044005e-06) is less than alpha value (0.05), we reject the null hypothesis\n"
     ]
    }
   ],
   "source": [
    "print(f'Because the p-value ({p}) is less than alpha value ({alpha}), we reject the null hypothesis')"
   ]
  },
  {
   "cell_type": "code",
   "execution_count": null,
   "id": "c5d88817",
   "metadata": {},
   "outputs": [],
   "source": []
  }
 ],
 "metadata": {
  "kernelspec": {
   "display_name": "Python 3.8.8 64-bit ('base': conda)",
   "language": "python",
   "name": "python388jvsc74a57bd0b64057e63add2b45b1ffc7eab9b09c8889b419c878e2fdf0d08f837f0fc857a7"
  },
  "language_info": {
   "codemirror_mode": {
    "name": "ipython",
    "version": 3
   },
   "file_extension": ".py",
   "mimetype": "text/x-python",
   "name": "python",
   "nbconvert_exporter": "python",
   "pygments_lexer": "ipython3",
   "version": "3.8.8"
  }
 },
 "nbformat": 4,
 "nbformat_minor": 5
}
